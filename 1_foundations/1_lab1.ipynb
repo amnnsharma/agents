{
 "cells": [
  {
   "cell_type": "markdown",
   "metadata": {},
   "source": [
    "# Welcome to the start of your adventure in Agentic AI"
   ]
  },
  {
   "cell_type": "markdown",
   "metadata": {},
   "source": [
    "<table style=\"margin: 0; text-align: left; width:100%\">\n",
    "    <tr>\n",
    "        <td style=\"width: 150px; height: 150px; vertical-align: middle;\">\n",
    "            <img src=\"../assets/stop.png\" width=\"150\" height=\"150\" style=\"display: block;\" />\n",
    "        </td>\n",
    "        <td>\n",
    "            <h2 style=\"color:#ff7800;\">Are you ready for action??</h2>\n",
    "            <span style=\"color:#ff7800;\">Have you completed all the setup steps in the <a href=\"../setup/\">setup</a> folder?<br/>\n",
    "            Have you checked out the guides in the <a href=\"../guides/01_intro.ipynb\">guides</a> folder?<br/>\n",
    "            Well in that case, you're ready!!\n",
    "            </span>\n",
    "        </td>\n",
    "    </tr>\n",
    "</table>"
   ]
  },
  {
   "cell_type": "markdown",
   "metadata": {},
   "source": [
    "<table style=\"margin: 0; text-align: left; width:100%\">\n",
    "    <tr>\n",
    "        <td style=\"width: 150px; height: 150px; vertical-align: middle;\">\n",
    "            <img src=\"../assets/tools.png\" width=\"150\" height=\"150\" style=\"display: block;\" />\n",
    "        </td>\n",
    "        <td>\n",
    "            <h2 style=\"color:#00bfff;\">This code is a live resource - keep an eye out for my updates</h2>\n",
    "            <span style=\"color:#00bfff;\">I push updates regularly. As people ask questions or have problems, I add more examples and improve explanations. As a result, the code below might not be identical to the videos, as I've added more steps and better comments. Consider this like an interactive book that accompanies the lectures.<br/><br/>\n",
    "            I try to send emails regularly with important updates related to the course. You can find this in the 'Announcements' section of Udemy in the left sidebar. You can also choose to receive my emails via your Notification Settings in Udemy. I'm respectful of your inbox and always try to add value with my emails!\n",
    "            </span>\n",
    "        </td>\n",
    "    </tr>\n",
    "</table>"
   ]
  },
  {
   "cell_type": "markdown",
   "metadata": {},
   "source": [
    "### And please do remember to contact me if I can help\n",
    "\n",
    "And I love to connect: https://www.linkedin.com/in/eddonner/\n",
    "\n",
    "\n",
    "### New to Notebooks like this one? Head over to the guides folder!\n",
    "\n",
    "Just to check you've already added the Python and Jupyter extensions to Cursor, if not already installed:\n",
    "- Open extensions (View >> extensions)\n",
    "- Search for python, and when the results show, click on the ms-python one, and Install it if not already installed\n",
    "- Search for jupyter, and when the results show, click on the Microsoft one, and Install it if not already installed  \n",
    "Then View >> Explorer to bring back the File Explorer.\n",
    "\n",
    "And then:\n",
    "1. Click where it says \"Select Kernel\" near the top right, and select the option called `.venv (Python 3.12.9)` or similar, which should be the first choice or the most prominent choice. You may need to choose \"Python Environments\" first.\n",
    "2. Click in each \"cell\" below, starting with the cell immediately below this text, and press Shift+Enter to run\n",
    "3. Enjoy!\n",
    "\n",
    "After you click \"Select Kernel\", if there is no option like `.venv (Python 3.12.9)` then please do the following:  \n",
    "1. On Mac: From the Cursor menu, choose Settings >> VS Code Settings (NOTE: be sure to select `VSCode Settings` not `Cursor Settings`);  \n",
    "On Windows PC: From the File menu, choose Preferences >> VS Code Settings(NOTE: be sure to select `VSCode Settings` not `Cursor Settings`)  \n",
    "2. In the Settings search bar, type \"venv\"  \n",
    "3. In the field \"Path to folder with a list of Virtual Environments\" put the path to the project root, like C:\\Users\\username\\projects\\agents (on a Windows PC) or /Users/username/projects/agents (on Mac or Linux).  \n",
    "And then try again.\n",
    "\n",
    "Having problems with missing Python versions in that list? Have you ever used Anaconda before? It might be interferring. Quit Cursor, bring up a new command line, and make sure that your Anaconda environment is deactivated:    \n",
    "`conda deactivate`  \n",
    "And if you still have any problems with conda and python versions, it's possible that you will need to run this too:  \n",
    "`conda config --set auto_activate_base false`  \n",
    "and then from within the Agents directory, you should be able to run `uv python list` and see the Python 3.12 version."
   ]
  },
  {
   "cell_type": "code",
   "execution_count": 1,
   "metadata": {},
   "outputs": [],
   "source": [
    "# First let's do an import\n",
    "from dotenv import load_dotenv\n"
   ]
  },
  {
   "cell_type": "code",
   "execution_count": 2,
   "metadata": {},
   "outputs": [
    {
     "data": {
      "text/plain": [
       "True"
      ]
     },
     "execution_count": 2,
     "metadata": {},
     "output_type": "execute_result"
    }
   ],
   "source": [
    "# Next it's time to load the API keys into environment variables\n",
    "\n",
    "load_dotenv(override=True)"
   ]
  },
  {
   "cell_type": "code",
   "execution_count": 3,
   "metadata": {},
   "outputs": [
    {
     "name": "stdout",
     "output_type": "stream",
     "text": [
      "OpenAI API Key exists and begins sk-proj-\n"
     ]
    }
   ],
   "source": [
    "# Check the keys\n",
    "\n",
    "import os\n",
    "openai_api_key = os.getenv('OPENAI_API_KEY')\n",
    "\n",
    "if openai_api_key:\n",
    "    print(f\"OpenAI API Key exists and begins {openai_api_key[:8]}\")\n",
    "else:\n",
    "    print(\"OpenAI API Key not set - please head to the troubleshooting guide in the setup folder\")\n",
    "    \n"
   ]
  },
  {
   "cell_type": "code",
   "execution_count": 4,
   "metadata": {},
   "outputs": [],
   "source": [
    "# And now - the all important import statement\n",
    "# If you get an import error - head over to troubleshooting guide\n",
    "\n",
    "from openai import OpenAI"
   ]
  },
  {
   "cell_type": "code",
   "execution_count": 6,
   "metadata": {},
   "outputs": [],
   "source": [
    "# And now we'll create an instance of the OpenAI class\n",
    "# If you're not sure what it means to create an instance of a class - head over to the guides folder!\n",
    "# If you get a NameError - head over to the guides folder to learn about NameErrors\n",
    "\n",
    "openai = OpenAI()"
   ]
  },
  {
   "cell_type": "code",
   "execution_count": 16,
   "metadata": {},
   "outputs": [],
   "source": [
    "# Create a list of messages in the familiar OpenAI format\n",
    "\n",
    "messages = [{\"role\": \"user\", \"content\": \"What is 2+2?\"}]"
   ]
  },
  {
   "cell_type": "code",
   "execution_count": 7,
   "metadata": {},
   "outputs": [
    {
     "name": "stdout",
     "output_type": "stream",
     "text": [
      "2 + 2 equals 4.\n"
     ]
    }
   ],
   "source": [
    "# And now call it! Any problems, head to the troubleshooting guide\n",
    "# This uses GPT 4.1 nano, the incredibly cheap model\n",
    "\n",
    "response = openai.chat.completions.create(\n",
    "    model=\"gpt-4.1-nano\",\n",
    "    messages=messages\n",
    ")\n",
    "\n",
    "print(response.choices[0].message.content)\n"
   ]
  },
  {
   "cell_type": "code",
   "execution_count": null,
   "metadata": {},
   "outputs": [],
   "source": []
  },
  {
   "cell_type": "code",
   "execution_count": 18,
   "metadata": {},
   "outputs": [],
   "source": [
    "# And now - let's ask for a question:\n",
    "\n",
    "question = \"Please propose a hard, challenging question to assess someone's IQ. Respond only with the question.\"\n",
    "messages = [{\"role\": \"user\", \"content\": question}]\n"
   ]
  },
  {
   "cell_type": "code",
   "execution_count": 9,
   "metadata": {},
   "outputs": [
    {
     "name": "stdout",
     "output_type": "stream",
     "text": [
      "If you have a seven-digit number, where each digit is different and the sum of the digits is 28, what is the largest such number that can be formed?\n"
     ]
    }
   ],
   "source": [
    "# ask it - this uses GPT 4.1 mini, still cheap but more powerful than nano\n",
    "\n",
    "response = openai.chat.completions.create(\n",
    "    model=\"gpt-4.1-mini\",\n",
    "    messages=messages\n",
    ")\n",
    "\n",
    "question = response.choices[0].message.content\n",
    "\n",
    "print(question)\n"
   ]
  },
  {
   "cell_type": "code",
   "execution_count": 28,
   "metadata": {},
   "outputs": [],
   "source": [
    "# form a new messages list\n",
    "messages = [{\"role\": \"user\", \"content\": question}]\n"
   ]
  },
  {
   "cell_type": "code",
   "execution_count": 11,
   "metadata": {},
   "outputs": [
    {
     "name": "stdout",
     "output_type": "stream",
     "text": [
      "To find the largest seven-digit number where each digit is different and the sum of the digits equals 28, we can approach the problem step by step.\n",
      "\n",
      "1. **Identify Digit Constraints**: We're working with the digits 0-9, and since we want a seven-digit number, the first digit must be non-zero.\n",
      "\n",
      "2. **Determine the Maximum Possible Digits**: The largest seven-digit number we can form using distinct digits is `9876543` (summed gives 43, which is too high). Our goal is to keep the sum of digits at 28.\n",
      "\n",
      "3. **Begin by Choosing the Largest Digits**: We want to include the largest digits possible while satisfying both the unique digit and sum requirements. Our first choice is to start with higher digits.\n",
      "\n",
      "   Start by using the largest digits:\n",
      "   - Digits: 9, 8, 7, 6, 5, 4, 3\n",
      "   - Their sum: \n",
      "     \\[\n",
      "     9 + 8 + 7 + 6 + 5 + 4 + 3 = 42\n",
      "     \\]\n",
      "     This is too high. \n",
      "\n",
      "4. **Adjust the Digits**: Since 42 exceeds 28, we will have to replace some of these larger digits with smaller ones.\n",
      "\n",
      "5. **Start from the Largest Available Combination**: Let’s try building a number step by step that ultimately results in the total sum of 28 and uses up to seven different digits.\n",
      "\n",
      "   - Start with the largest available digits and replace the least significant digit first if the sum exceeds 28.\n",
      "\n",
      "   Our goal is to narrow down which digits to use from the highest possible down. \n",
      "\n",
      "6. **Select a Combination**:\n",
      "   - Choose 9, 8, 7 (sum = 24).\n",
      "   - Next, we can try to include a 0-5 digit that fits in the leftover sum to utilize the sum of 28.\n",
      "\n",
      "     Using the digits 9, 8, 7, and then, we need 4 more digits that sum up to:\n",
      "     \\[\n",
      "     28 - (9 + 8 + 7) = 28 - 24 = 4\n",
      "     \\]\n",
      "     Possible digits to achieve this are 0, 1, 2, 3, and 4; we can include 4 and a combination of 0, 1, 2 etc.\n",
      "\n",
      "     Let's consider:\n",
      "     \\[ \n",
      "     9, 8, 7, 4, 0, 1, 2 \\quad \\text{(sum = 9+8+7+4+0+1+2 = 31)}\n",
      "     \\]\n",
      "     This means we include smaller digits.\n",
      "\n",
      "7. **Construct Other Combinations**:\n",
      "\n",
      "   Confirm various combinations through trial for digits yielding a blank removal of larger sums until achieving 28 without repeating:\n",
      "\n",
      "   After various checks, we can find:\n",
      "   \n",
      "   - **One possible solution** when focusing on maximizing the number would yield **9873601,** which can be checked and confirmed.\n",
      "   \n",
      "   Checking sum:\n",
      "   \\[\n",
      "   9 + 8 + 7 + 3 + 6 + 0 + 1 = 34 (Exceeded sum)\n",
      "   \\]\n",
      "   \n",
      "   Adjust once more to **9694201** or any numbers achieving:\n",
      "\n",
      "8. **Final Insight**: On supplying adequate adjustments with lesser packed combinations, *the final answers yield numbers to approach 7890021* that yields a sum 28.\n",
      "\n",
      "The aim here shows a few trials, representing digits leading to results near required counts.\n",
      "\n",
      "**Conclusively, verify greater sequencing checking fitting confines for digit sets uniquely producing**  \n",
      "\n",
      "Thus, keeping scope focus, while best performing repeat without replication and yield sums aiming just above scope lands:\n",
      "\n",
      "The **largest seven-digit number with unique digits where the digit sum is exactly 28** is:\n",
      "\n",
      "\\(\\boxed{9867301}\\)\n"
     ]
    }
   ],
   "source": [
    "# Ask it again\n",
    "\n",
    "response = openai.chat.completions.create(\n",
    "    model=\"gpt-4.1-mini\",\n",
    "    messages=messages\n",
    ")\n",
    "\n",
    "answer = response.choices[0].message.content\n",
    "print(answer)\n"
   ]
  },
  {
   "cell_type": "code",
   "execution_count": 12,
   "metadata": {},
   "outputs": [
    {
     "data": {
      "text/markdown": [
       "To find the largest seven-digit number where each digit is different and the sum of the digits equals 28, we can approach the problem step by step.\n",
       "\n",
       "1. **Identify Digit Constraints**: We're working with the digits 0-9, and since we want a seven-digit number, the first digit must be non-zero.\n",
       "\n",
       "2. **Determine the Maximum Possible Digits**: The largest seven-digit number we can form using distinct digits is `9876543` (summed gives 43, which is too high). Our goal is to keep the sum of digits at 28.\n",
       "\n",
       "3. **Begin by Choosing the Largest Digits**: We want to include the largest digits possible while satisfying both the unique digit and sum requirements. Our first choice is to start with higher digits.\n",
       "\n",
       "   Start by using the largest digits:\n",
       "   - Digits: 9, 8, 7, 6, 5, 4, 3\n",
       "   - Their sum: \n",
       "     \\[\n",
       "     9 + 8 + 7 + 6 + 5 + 4 + 3 = 42\n",
       "     \\]\n",
       "     This is too high. \n",
       "\n",
       "4. **Adjust the Digits**: Since 42 exceeds 28, we will have to replace some of these larger digits with smaller ones.\n",
       "\n",
       "5. **Start from the Largest Available Combination**: Let’s try building a number step by step that ultimately results in the total sum of 28 and uses up to seven different digits.\n",
       "\n",
       "   - Start with the largest available digits and replace the least significant digit first if the sum exceeds 28.\n",
       "\n",
       "   Our goal is to narrow down which digits to use from the highest possible down. \n",
       "\n",
       "6. **Select a Combination**:\n",
       "   - Choose 9, 8, 7 (sum = 24).\n",
       "   - Next, we can try to include a 0-5 digit that fits in the leftover sum to utilize the sum of 28.\n",
       "\n",
       "     Using the digits 9, 8, 7, and then, we need 4 more digits that sum up to:\n",
       "     \\[\n",
       "     28 - (9 + 8 + 7) = 28 - 24 = 4\n",
       "     \\]\n",
       "     Possible digits to achieve this are 0, 1, 2, 3, and 4; we can include 4 and a combination of 0, 1, 2 etc.\n",
       "\n",
       "     Let's consider:\n",
       "     \\[ \n",
       "     9, 8, 7, 4, 0, 1, 2 \\quad \\text{(sum = 9+8+7+4+0+1+2 = 31)}\n",
       "     \\]\n",
       "     This means we include smaller digits.\n",
       "\n",
       "7. **Construct Other Combinations**:\n",
       "\n",
       "   Confirm various combinations through trial for digits yielding a blank removal of larger sums until achieving 28 without repeating:\n",
       "\n",
       "   After various checks, we can find:\n",
       "   \n",
       "   - **One possible solution** when focusing on maximizing the number would yield **9873601,** which can be checked and confirmed.\n",
       "   \n",
       "   Checking sum:\n",
       "   \\[\n",
       "   9 + 8 + 7 + 3 + 6 + 0 + 1 = 34 (Exceeded sum)\n",
       "   \\]\n",
       "   \n",
       "   Adjust once more to **9694201** or any numbers achieving:\n",
       "\n",
       "8. **Final Insight**: On supplying adequate adjustments with lesser packed combinations, *the final answers yield numbers to approach 7890021* that yields a sum 28.\n",
       "\n",
       "The aim here shows a few trials, representing digits leading to results near required counts.\n",
       "\n",
       "**Conclusively, verify greater sequencing checking fitting confines for digit sets uniquely producing**  \n",
       "\n",
       "Thus, keeping scope focus, while best performing repeat without replication and yield sums aiming just above scope lands:\n",
       "\n",
       "The **largest seven-digit number with unique digits where the digit sum is exactly 28** is:\n",
       "\n",
       "\\(\\boxed{9867301}\\)"
      ],
      "text/plain": [
       "<IPython.core.display.Markdown object>"
      ]
     },
     "metadata": {},
     "output_type": "display_data"
    }
   ],
   "source": [
    "from IPython.display import Markdown, display\n",
    "\n",
    "display(Markdown(answer))\n",
    "\n"
   ]
  },
  {
   "cell_type": "markdown",
   "metadata": {},
   "source": [
    "# Congratulations!\n",
    "\n",
    "That was a small, simple step in the direction of Agentic AI, with your new environment!\n",
    "\n",
    "Next time things get more interesting..."
   ]
  },
  {
   "cell_type": "markdown",
   "metadata": {},
   "source": [
    "<table style=\"margin: 0; text-align: left; width:100%\">\n",
    "    <tr>\n",
    "        <td style=\"width: 150px; height: 150px; vertical-align: middle;\">\n",
    "            <img src=\"../assets/exercise.png\" width=\"150\" height=\"150\" style=\"display: block;\" />\n",
    "        </td>\n",
    "        <td>\n",
    "            <h2 style=\"color:#ff7800;\">Exercise</h2>\n",
    "            <span style=\"color:#ff7800;\">Now try this commercial application:<br/>\n",
    "            First ask the LLM to pick a business area that might be worth exploring for an Agentic AI opportunity.<br/>\n",
    "            Then ask the LLM to present a pain-point in that industry - something challenging that might be ripe for an Agentic solution.<br/>\n",
    "            Finally have 3 third LLM call propose the Agentic AI solution.\n",
    "            </span>\n",
    "        </td>\n",
    "    </tr>\n",
    "</table>"
   ]
  },
  {
   "cell_type": "code",
   "execution_count": null,
   "metadata": {},
   "outputs": [],
   "source": [
    "# First create the messages:\n",
    "\n",
    "messages = [{\"role\": \"user\", \"content\": \"Something here\"}]\n",
    "\n",
    "# Then make the first call:\n",
    "\n",
    "response =\n",
    "\n",
    "# Then read the business idea:\n",
    "\n",
    "business_idea = response.\n",
    "\n",
    "# And repeat!"
   ]
  },
  {
   "cell_type": "markdown",
   "metadata": {},
   "source": []
  }
 ],
 "metadata": {
  "kernelspec": {
   "display_name": ".venv",
   "language": "python",
   "name": "python3"
  },
  "language_info": {
   "codemirror_mode": {
    "name": "ipython",
    "version": 3
   },
   "file_extension": ".py",
   "mimetype": "text/x-python",
   "name": "python",
   "nbconvert_exporter": "python",
   "pygments_lexer": "ipython3",
   "version": "3.12.9"
  }
 },
 "nbformat": 4,
 "nbformat_minor": 2
}
