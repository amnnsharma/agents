{
 "cells": [
  {
   "cell_type": "code",
   "execution_count": 12,
   "id": "698e0b64",
   "metadata": {},
   "outputs": [
    {
     "name": "stdout",
     "output_type": "stream",
     "text": [
      "Using MCP Server URL: https://server.smithery.ai/@qubaomingg/stock-analysis-mcp/mcp?profile=electronic-silverfish-GBoiGS&api_key=d27e19c2-1bbe-4f15-875e-ba89671650c2\n"
     ]
    }
   ],
   "source": [
    "import json\n",
    "import os\n",
    "\n",
    "# Load the MCP config from .vscode\n",
    "with open('../.vscode/mcp.json') as f:\n",
    "    config = json.load(f)\n",
    "\n",
    "mcp_url = config[\"servers\"][\"my-mcp-server-4b437308\"][\"url\"]\n",
    "\n",
    "print(\"Using MCP Server URL:\", mcp_url)\n",
    "\n",
    "# Now use this in OpenAI or httpx, etc.\n"
   ]
  }
 ],
 "metadata": {
  "kernelspec": {
   "display_name": ".venv",
   "language": "python",
   "name": "python3"
  },
  "language_info": {
   "codemirror_mode": {
    "name": "ipython",
    "version": 3
   },
   "file_extension": ".py",
   "mimetype": "text/x-python",
   "name": "python",
   "nbconvert_exporter": "python",
   "pygments_lexer": "ipython3",
   "version": "3.12.9"
  }
 },
 "nbformat": 4,
 "nbformat_minor": 5
}
